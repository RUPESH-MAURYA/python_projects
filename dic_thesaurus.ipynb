{
 "cells": [
  {
   "cell_type": "code",
   "execution_count": 1,
   "metadata": {},
   "outputs": [],
   "source": [
    "import json #to read jason file \n",
    "import difflib #to understand word \n",
    "from difflib import get_close_matches "
   ]
  },
  {
   "cell_type": "code",
   "execution_count": 15,
   "metadata": {},
   "outputs": [
    {
     "name": "stdout",
     "output_type": "stream",
     "text": [
      "Enter word:amigo\n",
      "do you mean flamingo instead? if Yes enter Y if No then N y\n",
      "Any of several aquatic birds of the family Phoenicopteridae, having very long legs and neck, a bill bent downward at the tip, and pinkish to scarlet plumage.\n"
     ]
    }
   ],
   "source": [
    "data=json.load(open(\"C:\\data\\Thesaurus\\data.json\"))\n",
    "def meaning(w):\n",
    "        w=w.lower()\n",
    "        if w.upper() in data:\n",
    "            return data[ w.upper()]\n",
    "        elif w.capitalize() in data:\n",
    "            return data[w.capitalize()]\n",
    "        elif w in data:\n",
    "            return data[w]\n",
    "        elif len(get_close_matches(w, data.keys() ))>0:\n",
    "            yn=raw_input( \"do you mean %s instead? if Yes enter Y if No then N \"%get_close_matches(w,data.keys())[0])\n",
    "            if yn==\"Y\" or yn==\"y\" :\n",
    "                return data[get_close_matches(w,data.keys())[0]]\n",
    "            elif yn==\"N\" or yn==\"n\" :\n",
    "                 return \"Please check the number \"\n",
    "            else:\n",
    "                 return  \"wrong input\"\n",
    "                \n",
    "                \n",
    "        else:\n",
    "            print \"Please check the number \"\n",
    "\n",
    "word=raw_input(\"Enter word:\")\n",
    "\n",
    "output= meaning(word)\n",
    "\n",
    "if type(output)==list:\n",
    "    for item in output:\n",
    "        print item\n",
    "else :\n",
    "    print output"
   ]
  },
  {
   "cell_type": "code",
   "execution_count": 10,
   "metadata": {},
   "outputs": [
    {
     "ename": "KeyError",
     "evalue": "'usa'",
     "output_type": "error",
     "traceback": [
      "\u001b[1;31m---------------------------------------------------------------------------\u001b[0m",
      "\u001b[1;31mKeyError\u001b[0m                                  Traceback (most recent call last)",
      "\u001b[1;32m<ipython-input-10-f42c6df4c25d>\u001b[0m in \u001b[0;36m<module>\u001b[1;34m()\u001b[0m\n\u001b[1;32m----> 1\u001b[1;33m \u001b[0mdata\u001b[0m\u001b[1;33m[\u001b[0m\u001b[1;34m\"usa\"\u001b[0m\u001b[1;33m]\u001b[0m\u001b[1;33m\u001b[0m\u001b[0m\n\u001b[0m",
      "\u001b[1;31mKeyError\u001b[0m: 'usa'"
     ]
    }
   ],
   "source": [
    "data[\"usa\"]"
   ]
  },
  {
   "cell_type": "code",
   "execution_count": null,
   "metadata": {},
   "outputs": [],
   "source": []
  }
 ],
 "metadata": {
  "kernelspec": {
   "display_name": "Python 2",
   "language": "python",
   "name": "python2"
  },
  "language_info": {
   "codemirror_mode": {
    "name": "ipython",
    "version": 2
   },
   "file_extension": ".py",
   "mimetype": "text/x-python",
   "name": "python",
   "nbconvert_exporter": "python",
   "pygments_lexer": "ipython2",
   "version": "2.7.16"
  }
 },
 "nbformat": 4,
 "nbformat_minor": 2
}
